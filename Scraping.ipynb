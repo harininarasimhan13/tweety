{
 "cells": [
  {
   "cell_type": "code",
   "source": "! pip install --upgrade pip\n! pip install nerodia\n",
   "metadata": {
    "cell_id": "ad05ade9-55d3-4dc7-a64f-08a9122dc590",
    "tags": [],
    "deepnote_to_be_reexecuted": false,
    "source_hash": "e5c85f58",
    "execution_start": 1645343300947,
    "execution_millis": 6690,
    "deepnote_cell_type": "code"
   },
   "outputs": [
    {
     "name": "stdout",
     "text": "Requirement already satisfied: pip in /root/venv/lib/python3.8/site-packages (22.0.3)\nRequirement already satisfied: nerodia in /root/venv/lib/python3.8/site-packages (0.14.1)\nRequirement already satisfied: six in /shared-libs/python3.8/py-core/lib/python3.8/site-packages (from nerodia) (1.16.0)\nRequirement already satisfied: python-dateutil in /shared-libs/python3.8/py-core/lib/python3.8/site-packages (from nerodia) (2.8.2)\nRequirement already satisfied: selenium in /root/venv/lib/python3.8/site-packages (from nerodia) (4.1.0)\nRequirement already satisfied: trio~=0.17 in /root/venv/lib/python3.8/site-packages (from selenium->nerodia) (0.19.0)\nRequirement already satisfied: urllib3[secure]~=1.26 in /shared-libs/python3.8/py/lib/python3.8/site-packages (from selenium->nerodia) (1.26.8)\nRequirement already satisfied: trio-websocket~=0.9 in /root/venv/lib/python3.8/site-packages (from selenium->nerodia) (0.9.2)\nRequirement already satisfied: attrs>=19.2.0 in /shared-libs/python3.8/py-core/lib/python3.8/site-packages (from trio~=0.17->selenium->nerodia) (21.4.0)\nRequirement already satisfied: outcome in /root/venv/lib/python3.8/site-packages (from trio~=0.17->selenium->nerodia) (1.1.0)\nRequirement already satisfied: async-generator>=1.9 in /root/venv/lib/python3.8/site-packages (from trio~=0.17->selenium->nerodia) (1.10)\nRequirement already satisfied: sniffio in /root/venv/lib/python3.8/site-packages (from trio~=0.17->selenium->nerodia) (1.2.0)\nRequirement already satisfied: sortedcontainers in /root/venv/lib/python3.8/site-packages (from trio~=0.17->selenium->nerodia) (2.4.0)\nRequirement already satisfied: idna in /shared-libs/python3.8/py-core/lib/python3.8/site-packages (from trio~=0.17->selenium->nerodia) (3.3)\nRequirement already satisfied: wsproto>=0.14 in /root/venv/lib/python3.8/site-packages (from trio-websocket~=0.9->selenium->nerodia) (1.0.0)\nRequirement already satisfied: pyOpenSSL>=0.14 in /shared-libs/python3.8/py/lib/python3.8/site-packages (from urllib3[secure]~=1.26->selenium->nerodia) (21.0.0)\nRequirement already satisfied: cryptography>=1.3.4 in /shared-libs/python3.8/py/lib/python3.8/site-packages (from urllib3[secure]~=1.26->selenium->nerodia) (36.0.1)\nRequirement already satisfied: certifi in /shared-libs/python3.8/py/lib/python3.8/site-packages (from urllib3[secure]~=1.26->selenium->nerodia) (2021.10.8)\nRequirement already satisfied: cffi>=1.12 in /shared-libs/python3.8/py-core/lib/python3.8/site-packages (from cryptography>=1.3.4->urllib3[secure]~=1.26->selenium->nerodia) (1.15.0)\nRequirement already satisfied: h11<1,>=0.9.0 in /root/venv/lib/python3.8/site-packages (from wsproto>=0.14->trio-websocket~=0.9->selenium->nerodia) (0.13.0)\nRequirement already satisfied: pycparser in /shared-libs/python3.8/py-core/lib/python3.8/site-packages (from cffi>=1.12->cryptography>=1.3.4->urllib3[secure]~=1.26->selenium->nerodia) (2.21)\n",
     "output_type": "stream"
    }
   ],
   "execution_count": 1
  },
  {
   "cell_type": "code",
   "metadata": {
    "tags": [],
    "cell_id": "a8f8c608-f18c-4f44-9657-05e51c8b46eb",
    "deepnote_to_be_reexecuted": false,
    "source_hash": "6eb18b0e",
    "execution_start": 1645343307646,
    "execution_millis": 82,
    "deepnote_cell_type": "code"
   },
   "source": "from selenium import webdriver\nimport time\nfrom nerodia.browser import Browser\nfrom selenium.webdriver.chrome.options import Options\nfrom selenium.webdriver.common.keys import Keys",
   "execution_count": 2,
   "outputs": []
  },
  {
   "cell_type": "code",
   "source": "\noptions = Options()\noptions.add_argument('--headless')\noptions.add_argument('--no-sandbox')\n\nbrowser = Browser('chrome', options=options) \nbrowser.goto('https://twitter.com/i/flow/login')\nbrowser.element(autocomplete=\"username\").click()\nbrowser.driver.switch_to.active_element.send_keys(\"hacklytics2022\")\nbrowser.element({\"class\" : \"css-18t94o4 css-1dbjc4n r-sdzlij r-1phboty r-rs99b7 r-ywje51 r-usiww2 r-2yi16 r-1qi8awa r-1ny4l3l r-ymttw5 r-o7ynqc r-6416eg r-lrvibr r-13qz1uu\"}).click()\ntime.sleep(2)\nbrowser.screenshot.save('screenshot1.png')\n\"\"\" when flagged use this\nbrowser.element({\"class\" : \"css-901oao r-1awozwy r-6koalj r-37j5jr r-1inkyih r-16dba41 r-135wba7 r-bcqeeo r-13qz1uu r-qvutc0\"}).click()\nbrowser.driver.switch_to.active_element.send_keys(\"mmurillo1@ggc.edu\")\ntime.sleep(2)\nbrowser.screenshot.save('screenshot2.png')\nbrowser.element({\"class\" : \"css-1dbjc4n r-mk0yit r-1f1sjgu\"}).click()\nbrowser.element({ \"class\" : \"css-18t94o4 css-1dbjc4n r-sdzlij r-1phboty r-rs99b7 r-peo1c r-1ps3wis r-1ny4l3l r-1guathk r-o7ynqc r-6416eg r-lrvibr\" }).click()\ntime.sleep(2)\nbrowser.screenshot.save('screenshot3.png')\nbrowser.element(autocomplete=\"current-password\").click()\nbrowser.driver.switch_to.active_element.send_keys(\"H4ck3r123\")\ntime.sleep(2)\nbrowser.screenshot.save('screenshot4.png')\nbrowser.element({\"class\" : \"css-18t94o4 css-1dbjc4n r-sdzlij r-1phboty r-rs99b7 r-ywje51 r-usiww2 r-peo1c r-1ps3wis r-1ny4l3l r-1guathk r-o7ynqc r-6416eg r-lrvibr r-13qz1uu\"}).click()\ntime.sleep(2)\nbrowser.screenshot.save('screenshot5.png')\nbrowser.element({\"class\" : \"public-DraftStyleDefault-block public-DraftStyleDefault-ltr\"}).click()\nbrowser.driver.switch_to.active_element.send_keys(\"@user I hope you feel better everythign will work out\")\ntime.sleep(2)\nbrowser.screenshot.save('screenshot5.png')\nbrowser.element({\"class\" : \"css-18t94o4 css-1dbjc4n r-l5o3uw r-42olwf r-sdzlij r-1phboty r-rs99b7 r-19u6a5r r-2yi16 r-1qi8awa r-1ny4l3l r-ymttw5 r-o7ynqc r-6416eg r-lrvibr\"}).click()\ntime.sleep(2)\nbrowser.screenshot.save('screenshot6.png')\n\"\"\"\n# when not flagged run this \nbrowser.element(autocomplete=\"current-password\").click()\nbrowser.driver.switch_to.active_element.send_keys(\"H4ck3r123\")\ntime.sleep(2)\nbrowser.screenshot.save('screenshot4.png')\nbrowser.element({\"class\" : \"css-18t94o4 css-1dbjc4n r-sdzlij r-1phboty r-rs99b7 r-ywje51 r-usiww2 r-peo1c r-1ps3wis r-1ny4l3l r-1guathk r-o7ynqc r-6416eg r-lrvibr r-13qz1uu\"}).click()\ntime.sleep(2)\nbrowser.screenshot.save('screenshot5.png')\nbrowser.element({\"class\" : \"public-DraftStyleDefault-block public-DraftStyleDefault-ltr\"}).click()\nbrowser.driver.switch_to.active_element.send_keys(f\"@HariniNarasim10 Do not stress to much over HAcklytics this was a great learning expreince\")\ntime.sleep(2)\nbrowser.screenshot.save('screenshot5.png')\nbrowser.element({\"class\" : \"css-18t94o4 css-1dbjc4n r-l5o3uw r-42olwf r-sdzlij r-1phboty r-rs99b7 r-19u6a5r r-2yi16 r-1qi8awa r-1ny4l3l r-ymttw5 r-o7ynqc r-6416eg r-lrvibr\"}).click()\ntime.sleep(2)\nbrowser.screenshot.save('screenshot6.png')\n\n\n",
   "metadata": {
    "cell_id": "444a60ac-5324-408c-a4b7-e30bafb4f0f3",
    "tags": [],
    "deepnote_to_be_reexecuted": false,
    "source_hash": "79bd9f3d",
    "execution_start": 1645343307736,
    "execution_millis": 15478,
    "deepnote_cell_type": "code"
   },
   "outputs": [
    {
     "name": "stderr",
     "text": "[DEPRECATION] [class_list]Using the 'class' locator to locate multiple classes with a String value (i.e. 'css-18t94o4 css-1dbjc4n r-sdzlij r-1phboty r-rs99b7 r-ywje51 r-usiww2 r-2yi16 r-1qi8awa r-1ny4l3l r-ymttw5 r-o7ynqc r-6416eg r-lrvibr r-13qz1uu') is deprecated. Use list (e.g. ['css-18t94o4', 'css-1dbjc4n', 'r-sdzlij', 'r-1phboty', 'r-rs99b7', 'r-ywje51', 'r-usiww2', 'r-2yi16', 'r-1qi8awa', 'r-1ny4l3l', 'r-ymttw5', 'r-o7ynqc', 'r-6416eg', 'r-lrvibr', 'r-13qz1uu']) instead.\n[DEPRECATION] [class_list]Using the 'class' locator to locate multiple classes with a String value (i.e. 'css-18t94o4 css-1dbjc4n r-sdzlij r-1phboty r-rs99b7 r-ywje51 r-usiww2 r-peo1c r-1ps3wis r-1ny4l3l r-1guathk r-o7ynqc r-6416eg r-lrvibr r-13qz1uu') is deprecated. Use list (e.g. ['css-18t94o4', 'css-1dbjc4n', 'r-sdzlij', 'r-1phboty', 'r-rs99b7', 'r-ywje51', 'r-usiww2', 'r-peo1c', 'r-1ps3wis', 'r-1ny4l3l', 'r-1guathk', 'r-o7ynqc', 'r-6416eg', 'r-lrvibr', 'r-13qz1uu']) instead.\n[DEPRECATION] [class_list]Using the 'class' locator to locate multiple classes with a String value (i.e. 'public-DraftStyleDefault-block public-DraftStyleDefault-ltr') is deprecated. Use list (e.g. ['public-DraftStyleDefault-block', 'public-DraftStyleDefault-ltr']) instead.\n[DEPRECATION] [class_list]Using the 'class' locator to locate multiple classes with a String value (i.e. 'css-18t94o4 css-1dbjc4n r-l5o3uw r-42olwf r-sdzlij r-1phboty r-rs99b7 r-19u6a5r r-2yi16 r-1qi8awa r-1ny4l3l r-ymttw5 r-o7ynqc r-6416eg r-lrvibr') is deprecated. Use list (e.g. ['css-18t94o4', 'css-1dbjc4n', 'r-l5o3uw', 'r-42olwf', 'r-sdzlij', 'r-1phboty', 'r-rs99b7', 'r-19u6a5r', 'r-2yi16', 'r-1qi8awa', 'r-1ny4l3l', 'r-ymttw5', 'r-o7ynqc', 'r-6416eg', 'r-lrvibr']) instead.\n",
     "output_type": "stream"
    }
   ],
   "execution_count": 3
  },
  {
   "cell_type": "code",
   "source": "\"\"\" would grabe user id from account that score a high ratio on hate comments pull the information assign a messdage related to the issues\nand tweet to them\nuser_id = \"@\" + \"HariniNarasim10\"\nmessages_ = \"Hope all is well keep up the good work remember you matter\"\n\"\"\"\n\n",
   "metadata": {
    "cell_id": "dcb5d2a1-6f2a-4dd5-8a4e-e806e6a01c4f",
    "tags": [],
    "deepnote_to_be_reexecuted": false,
    "source_hash": "11d2922b",
    "execution_start": 1645343323220,
    "execution_millis": 107,
    "deepnote_cell_type": "code"
   },
   "outputs": [
    {
     "output_type": "execute_result",
     "execution_count": 4,
     "data": {
      "text/plain": "' would grabe user id from account that score a high ratio on hate comments pull the information assign a messdage related to the issues\\nand tweet to them\\nuser_id = \"@\" + \"HariniNarasim10\"\\nmessages_ = \"Hope all is well keep up the good work remember you matter\"\\n'"
     },
     "metadata": {}
    }
   ],
   "execution_count": 4
  },
  {
   "cell_type": "markdown",
   "source": "<a style='text-decoration:none;line-height:16px;display:flex;color:#5B5B62;padding:10px;justify-content:end;' href='https://deepnote.com?utm_source=created-in-deepnote-cell&projectId=32908162-355b-46be-ab4a-9dfe9f21bcf8' target=\"_blank\">\n<img alt='Created in deepnote.com' style='display:inline;max-height:16px;margin:0px;margin-right:7.5px;' src='data:image/svg+xml;base64,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' > </img>\nCreated in <span style='font-weight:600;margin-left:4px;'>Deepnote</span></a>",
   "metadata": {
    "tags": [],
    "created_in_deepnote_cell": true,
    "deepnote_cell_type": "markdown"
   }
  }
 ],
 "nbformat": 4,
 "nbformat_minor": 2,
 "metadata": {
  "orig_nbformat": 2,
  "deepnote": {
   "is_reactive": false
  },
  "deepnote_notebook_id": "c2712650-cc4a-4e93-906e-bce3beb1043b",
  "deepnote_execution_queue": []
 }
}