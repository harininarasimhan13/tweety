{
 "cells": [
  {
   "cell_type": "code",
   "metadata": {
    "cell_id": "1871e16b-befe-489a-8259-6e657a23473d",
    "tags": [],
    "deepnote_to_be_reexecuted": false,
    "source_hash": "efd4fe5e",
    "execution_start": 1645305792675,
    "execution_millis": 8724,
    "deepnote_cell_type": "code"
   },
   "source": "! pip install --upgrade pip\n! pip3 install git+https://github.com/JustAnotherArchivist/snscrape.git",
   "execution_count": null,
   "outputs": [
    {
     "name": "stdout",
     "text": "Requirement already satisfied: pip in /root/venv/lib/python3.8/site-packages (22.0.3)\nCollecting git+https://github.com/JustAnotherArchivist/snscrape.git\n  Cloning https://github.com/JustAnotherArchivist/snscrape.git to /tmp/pip-req-build-yil91o3x\n  Running command git clone --filter=blob:none --quiet https://github.com/JustAnotherArchivist/snscrape.git /tmp/pip-req-build-yil91o3x\n  Resolved https://github.com/JustAnotherArchivist/snscrape.git to commit 57a624c618a487a063b503fff46771c4bc2f092f\n  Preparing metadata (setup.py) ... \u001b[?25ldone\n\u001b[?25hRequirement already satisfied: requests[socks] in /shared-libs/python3.8/py/lib/python3.8/site-packages (from snscrape==0.4.3.20220107.dev28+g57a624c) (2.27.1)\nRequirement already satisfied: lxml in /shared-libs/python3.8/py/lib/python3.8/site-packages (from snscrape==0.4.3.20220107.dev28+g57a624c) (4.7.1)\nRequirement already satisfied: beautifulsoup4 in /root/venv/lib/python3.8/site-packages (from snscrape==0.4.3.20220107.dev28+g57a624c) (4.10.0)\nRequirement already satisfied: filelock in /root/venv/lib/python3.8/site-packages (from snscrape==0.4.3.20220107.dev28+g57a624c) (3.6.0)\nRequirement already satisfied: pytz in /shared-libs/python3.8/py/lib/python3.8/site-packages (from snscrape==0.4.3.20220107.dev28+g57a624c) (2021.3)\nRequirement already satisfied: soupsieve>1.2 in /root/venv/lib/python3.8/site-packages (from beautifulsoup4->snscrape==0.4.3.20220107.dev28+g57a624c) (2.3.1)\nRequirement already satisfied: charset-normalizer~=2.0.0 in /shared-libs/python3.8/py-core/lib/python3.8/site-packages (from requests[socks]->snscrape==0.4.3.20220107.dev28+g57a624c) (2.0.12)\nRequirement already satisfied: idna<4,>=2.5 in /shared-libs/python3.8/py-core/lib/python3.8/site-packages (from requests[socks]->snscrape==0.4.3.20220107.dev28+g57a624c) (3.3)\nRequirement already satisfied: certifi>=2017.4.17 in /shared-libs/python3.8/py/lib/python3.8/site-packages (from requests[socks]->snscrape==0.4.3.20220107.dev28+g57a624c) (2021.10.8)\nRequirement already satisfied: urllib3<1.27,>=1.21.1 in /shared-libs/python3.8/py/lib/python3.8/site-packages (from requests[socks]->snscrape==0.4.3.20220107.dev28+g57a624c) (1.26.8)\nRequirement already satisfied: PySocks!=1.5.7,>=1.5.6 in /root/venv/lib/python3.8/site-packages (from requests[socks]->snscrape==0.4.3.20220107.dev28+g57a624c) (1.7.1)\n",
     "output_type": "stream"
    }
   ]
  },
  {
   "cell_type": "code",
   "metadata": {
    "cell_id": "a7181087-a07d-4d1a-ab20-b2053e85189d",
    "tags": [],
    "deepnote_to_be_reexecuted": false,
    "source_hash": "332ae4a7",
    "execution_start": 1645305801401,
    "execution_millis": 111,
    "deepnote_cell_type": "code"
   },
   "source": "import os\nimport pandas as pd\nfrom datetime import date\nimport requests\nfrom bs4 import BeautifulSoup\n",
   "execution_count": null,
   "outputs": []
  },
  {
   "cell_type": "code",
   "metadata": {
    "cell_id": "82de9ab2-5c1e-409b-8c9d-f12905ca2c8f",
    "tags": [],
    "deepnote_to_be_reexecuted": false,
    "source_hash": "6adae247",
    "execution_start": 1645305801515,
    "execution_millis": 4,
    "deepnote_cell_type": "code"
   },
   "source": "today = date.today()\nend_date = today\nprint(end_date)",
   "execution_count": null,
   "outputs": [
    {
     "name": "stdout",
     "text": "2022-02-19\n",
     "output_type": "stream"
    }
   ]
  },
  {
   "cell_type": "code",
   "metadata": {
    "cell_id": "12f79d30-806a-4454-aead-d621c1488dc1",
    "tags": [],
    "deepnote_to_be_reexecuted": false,
    "source_hash": "7d81a553",
    "execution_start": 1645309512887,
    "execution_millis": 17950,
    "deepnote_cell_type": "code"
   },
   "source": "keyword_ = str(input())\nfile_name = str(input())\nprint(keyword_ + \" \" + file_name)\nfrom_date = '2007-01-01'\n",
   "execution_count": null,
   "outputs": [
    {
     "name": "stdout",
     "text": "hey hey.txt\n",
     "output_type": "stream"
    }
   ]
  },
  {
   "cell_type": "code",
   "metadata": {
    "cell_id": "be0226ff-b2a6-49b8-9f10-4ece02cb47ef",
    "tags": [],
    "deepnote_to_be_reexecuted": false,
    "source_hash": "722ea3e5",
    "execution_start": 1645309533378,
    "execution_millis": 2518,
    "deepnote_cell_type": "code"
   },
   "source": "os.system(f\" snscrape --since {from_date} twitter-search '{keyword_}  until:{end_date}' > {file_name}\")\nif os.stat(file_name).st_size == 0:\n    counter = 0\nelse:\n    df = pd.read_csv(file_name, names = [\"link\"])\n    counter = df.size\n\nprint(\"number of Tweets : \" + str(counter))",
   "execution_count": null,
   "outputs": [
    {
     "name": "stdout",
     "text": "number of Tweets : 95\n",
     "output_type": "stream"
    }
   ]
  },
  {
   "cell_type": "code",
   "metadata": {
    "cell_id": "5dd4e337-9aa0-4d0a-9ff5-f88ad5569ac3",
    "tags": [],
    "deepnote_to_be_reexecuted": false,
    "source_hash": "6f964359",
    "execution_start": 1645306931363,
    "execution_millis": 9948,
    "deepnote_cell_type": "code"
   },
   "source": "tweet_count = 501\ntext_query = \"i am suicidal\"\nsince_date = \"2007-06-01\"\nuntil_date = \"2021-07-31\"\n\nos.system('snscrape --jsonl --max-results {} --since {} twitter-search \"{} until:{}\"> suicide-query-tweets.json'.format(tweet_count, since_date, text_query, until_date))\n\n#tweets_df2 = pd.read_json('suicide-query-tweets.json', lines=True)\n\n\n# Export dataframe into a CSV\ntweets_df2.to_csv('suicide-query-tweets.csv', sep=',', index=False)",
   "execution_count": null,
   "outputs": []
  },
  {
   "cell_type": "code",
   "metadata": {
    "cell_id": "a4461921-637e-44f9-a54c-edad58d94344",
    "tags": [],
    "deepnote_to_be_reexecuted": false,
    "source_hash": "9a98a39e",
    "execution_start": 1645306868483,
    "execution_millis": 13387,
    "deepnote_cell_type": "code"
   },
   "source": "tweet_count = 501\ntext_query = \"i am depressed\"\nsince_date = \"2007-06-01\"\nuntil_date = \"2020-07-31\"\n\nos.system('snscrape --jsonl --max-results {} --since {} twitter-search \"{} until:{}\"> depressed-query-tweet.json'.format(tweet_count, since_date, text_query, until_date))\n\n#tweets_df2 = pd.read_json('text-query-tweet.json', lines=True)\n\n\n# Export dataframe into a CSV\ntweets_df2.to_csv('depressed-query-tweet.csv', sep=',', index=False)",
   "execution_count": null,
   "outputs": []
  },
  {
   "cell_type": "code",
   "metadata": {
    "cell_id": "690370d8-6f4a-4cc0-979f-2860796abfea",
    "tags": [],
    "deepnote_to_be_reexecuted": false,
    "source_hash": "f748c157",
    "execution_start": 1645307891784,
    "execution_millis": 266,
    "deepnote_cell_type": "code"
   },
   "source": "\ntext_query = \"anxious\"\nsince_date = \"2007-06-01\"\nuntil_date = \"2020-07-31\"\nmax_results = 1500\n\nos.system('snscrape --jsonl --max-results {} --since {} twitter-search \"{} until:{}\"> anxious-query-tweet.json'.format(since_date,max_results, text_query, until_date))\n\n#tweets_df2 = pd.read_json('text-query-tweet.json', lines=True)\n\n\n# Export dataframe into a CSV\ntweets_df2.to_csv('anxious-query-tweet.csv', sep=',', index=False)",
   "execution_count": null,
   "outputs": []
  },
  {
   "cell_type": "code",
   "metadata": {
    "cell_id": "e2fcca75-bb85-4dfb-9fee-963f2ab1da7e",
    "tags": [],
    "deepnote_to_be_reexecuted": false,
    "source_hash": "88582b44",
    "execution_start": 1645316350427,
    "execution_millis": 164,
    "deepnote_cell_type": "code"
   },
   "source": "",
   "execution_count": null,
   "outputs": [
    {
     "output_type": "error",
     "ename": "NameError",
     "evalue": "name 'library' is not defined",
     "traceback": [
      "\u001b[0;31m---------------------------------------------------------------------------\u001b[0m",
      "\u001b[0;31mNameError\u001b[0m                                 Traceback (most recent call last)",
      "\u001b[0;32m<ipython-input-1-26b1eb9c95ca>\u001b[0m in \u001b[0;36m<module>\u001b[0;34m\u001b[0m\n\u001b[0;32m----> 1\u001b[0;31m \u001b[0mlibrary\u001b[0m\u001b[0;34m(\u001b[0m\u001b[0mdplyr\u001b[0m\u001b[0;34m)\u001b[0m   \u001b[0;31m#Data manipulation\u001b[0m\u001b[0;34m\u001b[0m\u001b[0;34m\u001b[0m\u001b[0m\n\u001b[0m\u001b[1;32m      2\u001b[0m \u001b[0mlibrary\u001b[0m\u001b[0;34m(\u001b[0m\u001b[0mforcats\u001b[0m\u001b[0;34m)\u001b[0m \u001b[0;31m#ggplot frequency\u001b[0m\u001b[0;34m\u001b[0m\u001b[0;34m\u001b[0m\u001b[0m\n\u001b[1;32m      3\u001b[0m \u001b[0mlibrary\u001b[0m\u001b[0;34m(\u001b[0m\u001b[0mggplot2\u001b[0m\u001b[0;34m)\u001b[0m \u001b[0;31m#visualizations\u001b[0m\u001b[0;34m\u001b[0m\u001b[0;34m\u001b[0m\u001b[0m\n\u001b[1;32m      4\u001b[0m \u001b[0mlibrary\u001b[0m\u001b[0;34m(\u001b[0m\u001b[0mcaTools\u001b[0m\u001b[0;34m)\u001b[0m \u001b[0;31m#Data wrangling\u001b[0m\u001b[0;34m\u001b[0m\u001b[0;34m\u001b[0m\u001b[0m\n\u001b[1;32m      5\u001b[0m \u001b[0mlibrary\u001b[0m\u001b[0;34m(\u001b[0m\u001b[0;34m\"tm\"\u001b[0m\u001b[0;34m)\u001b[0m  \u001b[0;31m# for text mining\u001b[0m\u001b[0;34m\u001b[0m\u001b[0;34m\u001b[0m\u001b[0m\n",
      "\u001b[0;31mNameError\u001b[0m: name 'library' is not defined"
     ]
    }
   ]
  },
  {
   "cell_type": "markdown",
   "source": "<a style='text-decoration:none;line-height:16px;display:flex;color:#5B5B62;padding:10px;justify-content:end;' href='https://deepnote.com?utm_source=created-in-deepnote-cell&projectId=32908162-355b-46be-ab4a-9dfe9f21bcf8' target=\"_blank\">\n<img alt='Created in deepnote.com' style='display:inline;max-height:16px;margin:0px;margin-right:7.5px;' src='data:image/svg+xml;base64,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' > </img>\nCreated in <span style='font-weight:600;margin-left:4px;'>Deepnote</span></a>",
   "metadata": {
    "tags": [],
    "created_in_deepnote_cell": true,
    "deepnote_cell_type": "markdown"
   }
  }
 ],
 "nbformat": 4,
 "nbformat_minor": 2,
 "metadata": {
  "orig_nbformat": 2,
  "deepnote": {
   "is_reactive": false
  },
  "deepnote_notebook_id": "8a15ab10-4c6e-4156-a88c-c380b42ec8de",
  "deepnote_execution_queue": []
 }
}